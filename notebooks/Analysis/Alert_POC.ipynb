{
 "cells": [
  {
   "cell_type": "code",
   "execution_count": 43,
   "metadata": {
    "collapsed": false
   },
   "outputs": [
    {
     "name": "stdout",
     "output_type": "stream",
     "text": [
      "Environment configured for development: True\n"
     ]
    }
   ],
   "source": [
    "# opengrid imports\n",
    "from opengrid.library import misc, houseprint, caching\n",
    "from opengrid.library.analysis import DailyAgg\n",
    "from opengrid import config\n",
    "from opengrid.library.slack import Slack\n",
    "from opengrid.library import alerts\n",
    "c=config.Config()\n",
    "\n",
    "# other imports\n",
    "import pandas as pd\n",
    "import json\n",
    "import charts\n",
    "import numpy as np\n",
    "import os\n",
    "import datetime as dt\n",
    "import pytz\n",
    "BXL = pytz.timezone('Europe/Brussels')\n",
    "\n",
    "\n",
    "# configuration for the plots\n",
    "DEV = c.get('env', 'type') == 'dev' # DEV is True if we are in development environment, False if on the droplet\n",
    "print(\"Environment configured for development: {}\".format(DEV))\n",
    "if not DEV:\n",
    "    # production environment: don't try to display plots\n",
    "    import matplotlib\n",
    "    matplotlib.use('Agg')\n",
    "import matplotlib.pyplot as plt\n",
    "from matplotlib.dates import MinuteLocator, HourLocator, DateFormatter, AutoDateLocator, num2date\n",
    "\n",
    "if DEV:\n",
    "    if c.get('env', 'plots') == 'inline':\n",
    "        %matplotlib inline\n",
    "    else:\n",
    "        %matplotlib qt\n",
    "else:\n",
    "    pass # don't try to render plots\n",
    "plt.rcParams['figure.figsize'] = 12,8"
   ]
  },
  {
   "cell_type": "code",
   "execution_count": 24,
   "metadata": {
    "collapsed": false
   },
   "outputs": [
    {
     "name": "stdout",
     "output_type": "stream",
     "text": [
      "Opening connection to Houseprint sheet\n",
      "Opening spreadsheets\n",
      "Parsing spreadsheets\n",
      "24 Sites created\n",
      "24 Devices created\n",
      "75 sensors created\n",
      "Houseprint parsing complete\n",
      "Using tmpo database from /data/.tmpo/tmpo.sqlite3\n"
     ]
    }
   ],
   "source": [
    "hp = houseprint.Houseprint()\n",
    "sensors = hp.get_sensors(sensortype='electricity') # sensor objects\n",
    "\n",
    "# Remove some sensors\n",
    "exclude = [\n",
    "            '565de0a7dc64d8370aa321491217b85f' # 3E\n",
    "          ]\n",
    "solar = [x.key for x in hp.search_sensors(type='electricity', system='solar')]\n",
    "exclude += solar\n",
    "\n",
    "for s in sensors:\n",
    "    if s.key in exclude:\n",
    "        sensors.remove(s)\n",
    "\n",
    "hp.init_tmpo()"
   ]
  },
  {
   "cell_type": "code",
   "execution_count": 25,
   "metadata": {
    "collapsed": false,
    "scrolled": true
   },
   "outputs": [
    {
     "name": "stderr",
     "output_type": "stream",
     "text": [
      "/usr/local/lib/python2.7/dist-packages/requests/packages/urllib3/util/ssl_.py:122: InsecurePlatformWarning: A true SSLContext object is not available. This prevents urllib3 from configuring SSL appropriately and may cause certain SSL connections to fail. You can upgrade to a newer version of Python to solve this. For more information, see https://urllib3.readthedocs.io/en/latest/security.html#insecureplatformwarning.\n",
      "  InsecurePlatformWarning\n",
      "/usr/local/lib/python2.7/dist-packages/requests/packages/urllib3/connection.py:303: SubjectAltNameWarning: Certificate for api.flukso.net has no `subjectAltName`, falling back to check for a `commonName` for now. This feature is being removed by major browsers and deprecated by RFC 2818. (See https://github.com/shazow/urllib3/issues/497 for details.)\n",
      "  SubjectAltNameWarning\n",
      "/usr/local/lib/python2.7/dist-packages/requests/packages/urllib3/util/ssl_.py:122: InsecurePlatformWarning: A true SSLContext object is not available. This prevents urllib3 from configuring SSL appropriately and may cause certain SSL connections to fail. You can upgrade to a newer version of Python to solve this. For more information, see https://urllib3.readthedocs.io/en/latest/security.html#insecureplatformwarning.\n",
      "  InsecurePlatformWarning\n",
      "/usr/local/lib/python2.7/dist-packages/requests/packages/urllib3/util/ssl_.py:122: InsecurePlatformWarning: A true SSLContext object is not available. This prevents urllib3 from configuring SSL appropriately and may cause certain SSL connections to fail. You can upgrade to a newer version of Python to solve this. For more information, see https://urllib3.readthedocs.io/en/latest/security.html#insecureplatformwarning.\n",
      "  InsecurePlatformWarning\n",
      "/usr/local/lib/python2.7/dist-packages/requests/packages/urllib3/util/ssl_.py:122: InsecurePlatformWarning: A true SSLContext object is not available. This prevents urllib3 from configuring SSL appropriately and may cause certain SSL connections to fail. You can upgrade to a newer version of Python to solve this. For more information, see https://urllib3.readthedocs.io/en/latest/security.html#insecureplatformwarning.\n",
      "  InsecurePlatformWarning\n",
      "/usr/local/lib/python2.7/dist-packages/requests/packages/urllib3/util/ssl_.py:122: InsecurePlatformWarning: A true SSLContext object is not available. This prevents urllib3 from configuring SSL appropriately and may cause certain SSL connections to fail. You can upgrade to a newer version of Python to solve this. For more information, see https://urllib3.readthedocs.io/en/latest/security.html#insecureplatformwarning.\n",
      "  InsecurePlatformWarning\n",
      "/usr/local/lib/python2.7/dist-packages/requests/packages/urllib3/connection.py:303: SubjectAltNameWarning: Certificate for api.flukso.net has no `subjectAltName`, falling back to check for a `commonName` for now. This feature is being removed by major browsers and deprecated by RFC 2818. (See https://github.com/shazow/urllib3/issues/497 for details.)\n",
      "  SubjectAltNameWarning\n",
      "/usr/local/lib/python2.7/dist-packages/requests/packages/urllib3/connection.py:303: SubjectAltNameWarning: Certificate for api.flukso.net has no `subjectAltName`, falling back to check for a `commonName` for now. This feature is being removed by major browsers and deprecated by RFC 2818. (See https://github.com/shazow/urllib3/issues/497 for details.)\n",
      "  SubjectAltNameWarning\n",
      "/usr/local/lib/python2.7/dist-packages/requests/packages/urllib3/connection.py:303: SubjectAltNameWarning: Certificate for api.flukso.net has no `subjectAltName`, falling back to check for a `commonName` for now. This feature is being removed by major browsers and deprecated by RFC 2818. (See https://github.com/shazow/urllib3/issues/497 for details.)\n",
      "  SubjectAltNameWarning\n",
      "/usr/local/lib/python2.7/dist-packages/requests/packages/urllib3/connection.py:303: SubjectAltNameWarning: Certificate for api.flukso.net has no `subjectAltName`, falling back to check for a `commonName` for now. This feature is being removed by major browsers and deprecated by RFC 2818. (See https://github.com/shazow/urllib3/issues/497 for details.)\n",
      "  SubjectAltNameWarning\n",
      "/usr/local/lib/python2.7/dist-packages/requests/packages/urllib3/util/ssl_.py:122: InsecurePlatformWarning: A true SSLContext object is not available. This prevents urllib3 from configuring SSL appropriately and may cause certain SSL connections to fail. You can upgrade to a newer version of Python to solve this. For more information, see https://urllib3.readthedocs.io/en/latest/security.html#insecureplatformwarning.\n",
      "  InsecurePlatformWarning\n",
      "/usr/local/lib/python2.7/dist-packages/requests/packages/urllib3/util/ssl_.py:122: InsecurePlatformWarning: A true SSLContext object is not available. This prevents urllib3 from configuring SSL appropriately and may cause certain SSL connections to fail. You can upgrade to a newer version of Python to solve this. For more information, see https://urllib3.readthedocs.io/en/latest/security.html#insecureplatformwarning.\n",
      "  InsecurePlatformWarning\n",
      "/usr/local/lib/python2.7/dist-packages/requests/packages/urllib3/connection.py:303: SubjectAltNameWarning: Certificate for api.flukso.net has no `subjectAltName`, falling back to check for a `commonName` for now. This feature is being removed by major browsers and deprecated by RFC 2818. (See https://github.com/shazow/urllib3/issues/497 for details.)\n",
      "  SubjectAltNameWarning\n",
      "/usr/local/lib/python2.7/dist-packages/requests/packages/urllib3/connection.py:303: SubjectAltNameWarning: Certificate for api.flukso.net has no `subjectAltName`, falling back to check for a `commonName` for now. This feature is being removed by major browsers and deprecated by RFC 2818. (See https://github.com/shazow/urllib3/issues/497 for details.)\n",
      "  SubjectAltNameWarning\n"
     ]
    }
   ],
   "source": [
    "hp.sync_tmpos()"
   ]
  },
  {
   "cell_type": "code",
   "execution_count": 26,
   "metadata": {
    "collapsed": false
   },
   "outputs": [],
   "source": [
    "dt_now = pd.Timestamp('now', tz='UTC')\n",
    "dt_start = dt_now - pd.Timedelta(hours=24)\n",
    "df = hp.get_data(sensors=sensors, head=dt_start)"
   ]
  },
  {
   "cell_type": "code",
   "execution_count": 36,
   "metadata": {
    "collapsed": false
   },
   "outputs": [],
   "source": [
    "df_total = pd.DataFrame(df.sum()/60/1000)\n",
    "df_total.columns=['sum']"
   ]
  },
  {
   "cell_type": "markdown",
   "metadata": {},
   "source": [
    "Sort the daily consumptions"
   ]
  },
  {
   "cell_type": "code",
   "execution_count": 38,
   "metadata": {
    "collapsed": false
   },
   "outputs": [
    {
     "name": "stderr",
     "output_type": "stream",
     "text": [
      "/usr/local/lib/python2.7/dist-packages/ipykernel/__main__.py:1: FutureWarning: sort(columns=....) is deprecated, use sort_values(by=.....)\n",
      "  if __name__ == '__main__':\n"
     ]
    }
   ],
   "source": [
    "df_total.sort(columns=['sum'], axis=0, inplace=True)\n",
    "df_total['percentile'] = np.array(range(len(df_total)))/float(len(df_total))"
   ]
  },
  {
   "cell_type": "code",
   "execution_count": 39,
   "metadata": {
    "collapsed": false
   },
   "outputs": [
    {
     "data": {
      "text/html": [
       "<div>\n",
       "<table border=\"1\" class=\"dataframe\">\n",
       "  <thead>\n",
       "    <tr style=\"text-align: right;\">\n",
       "      <th></th>\n",
       "      <th>sum</th>\n",
       "      <th>percentile</th>\n",
       "    </tr>\n",
       "  </thead>\n",
       "  <tbody>\n",
       "    <tr>\n",
       "      <th>214ef2d3533899dbf633caeb32e80483</th>\n",
       "      <td>0.970000</td>\n",
       "      <td>0.000000</td>\n",
       "    </tr>\n",
       "    <tr>\n",
       "      <th>156e0abc64b00c5e98dbd3c17883b5f6</th>\n",
       "      <td>1.285891</td>\n",
       "      <td>0.041667</td>\n",
       "    </tr>\n",
       "    <tr>\n",
       "      <th>2dd0f6942224767b18a411415f67b423</th>\n",
       "      <td>2.242987</td>\n",
       "      <td>0.083333</td>\n",
       "    </tr>\n",
       "    <tr>\n",
       "      <th>dfb719cc8240de810862228a7d1f37f3</th>\n",
       "      <td>2.868150</td>\n",
       "      <td>0.125000</td>\n",
       "    </tr>\n",
       "    <tr>\n",
       "      <th>e1dec16012edc11de998aeaa317274d7</th>\n",
       "      <td>2.973019</td>\n",
       "      <td>0.166667</td>\n",
       "    </tr>\n",
       "    <tr>\n",
       "      <th>cdd4808a8d0a228ba16fba7c66dda81a</th>\n",
       "      <td>2.975664</td>\n",
       "      <td>0.208333</td>\n",
       "    </tr>\n",
       "    <tr>\n",
       "      <th>77aaf550776560cd11eb68499b500075</th>\n",
       "      <td>5.209863</td>\n",
       "      <td>0.250000</td>\n",
       "    </tr>\n",
       "    <tr>\n",
       "      <th>81fb589c911e808daa96a2064bebed41</th>\n",
       "      <td>5.532440</td>\n",
       "      <td>0.291667</td>\n",
       "    </tr>\n",
       "    <tr>\n",
       "      <th>dd169cdc4479f7206007b536659e987e</th>\n",
       "      <td>6.316977</td>\n",
       "      <td>0.333333</td>\n",
       "    </tr>\n",
       "    <tr>\n",
       "      <th>d209e2bbb35b82b83cc0de5e8b84a4ff</th>\n",
       "      <td>6.933583</td>\n",
       "      <td>0.375000</td>\n",
       "    </tr>\n",
       "    <tr>\n",
       "      <th>ad322ec64956ed232cb94a72517004ab</th>\n",
       "      <td>6.979750</td>\n",
       "      <td>0.416667</td>\n",
       "    </tr>\n",
       "    <tr>\n",
       "      <th>9afa3357cee100c6a8a5059c63e29295</th>\n",
       "      <td>7.230967</td>\n",
       "      <td>0.458333</td>\n",
       "    </tr>\n",
       "    <tr>\n",
       "      <th>c1a78eacaa6a82d3257a278d3e99088a</th>\n",
       "      <td>8.236747</td>\n",
       "      <td>0.500000</td>\n",
       "    </tr>\n",
       "    <tr>\n",
       "      <th>1a1dac9c2ac155f95c58bf1d4f4b7d01</th>\n",
       "      <td>8.858532</td>\n",
       "      <td>0.541667</td>\n",
       "    </tr>\n",
       "    <tr>\n",
       "      <th>99d7f090c9b191e31067a5fa922da025</th>\n",
       "      <td>8.974747</td>\n",
       "      <td>0.583333</td>\n",
       "    </tr>\n",
       "    <tr>\n",
       "      <th>56f28789f52236df4647d06111ff515a</th>\n",
       "      <td>11.301291</td>\n",
       "      <td>0.625000</td>\n",
       "    </tr>\n",
       "    <tr>\n",
       "      <th>3aa40023a1683bfec0f01cce8d45fc70</th>\n",
       "      <td>12.120833</td>\n",
       "      <td>0.666667</td>\n",
       "    </tr>\n",
       "    <tr>\n",
       "      <th>53b1eb0479c83dee927fff10b0cb0fe6</th>\n",
       "      <td>12.808989</td>\n",
       "      <td>0.708333</td>\n",
       "    </tr>\n",
       "    <tr>\n",
       "      <th>b841eb895810525017ddc5d932d37eb7</th>\n",
       "      <td>13.383500</td>\n",
       "      <td>0.750000</td>\n",
       "    </tr>\n",
       "    <tr>\n",
       "      <th>a7d523e79909ad098bccc337c5da84a0</th>\n",
       "      <td>16.328782</td>\n",
       "      <td>0.791667</td>\n",
       "    </tr>\n",
       "    <tr>\n",
       "      <th>18345d8b39d2b98cde9f652b533f4280</th>\n",
       "      <td>20.404708</td>\n",
       "      <td>0.833333</td>\n",
       "    </tr>\n",
       "    <tr>\n",
       "      <th>4d23c511766514749bc84e29af6f444e</th>\n",
       "      <td>23.201389</td>\n",
       "      <td>0.875000</td>\n",
       "    </tr>\n",
       "    <tr>\n",
       "      <th>ce8ab098fc7479dcb3699f307c8e88a7</th>\n",
       "      <td>24.732750</td>\n",
       "      <td>0.916667</td>\n",
       "    </tr>\n",
       "    <tr>\n",
       "      <th>b325dbc1a0d62c99a50609e919b9ea06</th>\n",
       "      <td>52.970000</td>\n",
       "      <td>0.958333</td>\n",
       "    </tr>\n",
       "  </tbody>\n",
       "</table>\n",
       "</div>"
      ],
      "text/plain": [
       "                                        sum  percentile\n",
       "214ef2d3533899dbf633caeb32e80483   0.970000    0.000000\n",
       "156e0abc64b00c5e98dbd3c17883b5f6   1.285891    0.041667\n",
       "2dd0f6942224767b18a411415f67b423   2.242987    0.083333\n",
       "dfb719cc8240de810862228a7d1f37f3   2.868150    0.125000\n",
       "e1dec16012edc11de998aeaa317274d7   2.973019    0.166667\n",
       "cdd4808a8d0a228ba16fba7c66dda81a   2.975664    0.208333\n",
       "77aaf550776560cd11eb68499b500075   5.209863    0.250000\n",
       "81fb589c911e808daa96a2064bebed41   5.532440    0.291667\n",
       "dd169cdc4479f7206007b536659e987e   6.316977    0.333333\n",
       "d209e2bbb35b82b83cc0de5e8b84a4ff   6.933583    0.375000\n",
       "ad322ec64956ed232cb94a72517004ab   6.979750    0.416667\n",
       "9afa3357cee100c6a8a5059c63e29295   7.230967    0.458333\n",
       "c1a78eacaa6a82d3257a278d3e99088a   8.236747    0.500000\n",
       "1a1dac9c2ac155f95c58bf1d4f4b7d01   8.858532    0.541667\n",
       "99d7f090c9b191e31067a5fa922da025   8.974747    0.583333\n",
       "56f28789f52236df4647d06111ff515a  11.301291    0.625000\n",
       "3aa40023a1683bfec0f01cce8d45fc70  12.120833    0.666667\n",
       "53b1eb0479c83dee927fff10b0cb0fe6  12.808989    0.708333\n",
       "b841eb895810525017ddc5d932d37eb7  13.383500    0.750000\n",
       "a7d523e79909ad098bccc337c5da84a0  16.328782    0.791667\n",
       "18345d8b39d2b98cde9f652b533f4280  20.404708    0.833333\n",
       "4d23c511766514749bc84e29af6f444e  23.201389    0.875000\n",
       "ce8ab098fc7479dcb3699f307c8e88a7  24.732750    0.916667\n",
       "b325dbc1a0d62c99a50609e919b9ea06  52.970000    0.958333"
      ]
     },
     "execution_count": 39,
     "metadata": {},
     "output_type": "execute_result"
    }
   ],
   "source": [
    "df_total"
   ]
  },
  {
   "cell_type": "markdown",
   "metadata": {},
   "source": [
    "# Setup percentile slack bot"
   ]
  },
  {
   "cell_type": "code",
   "execution_count": 40,
   "metadata": {
    "collapsed": false
   },
   "outputs": [],
   "source": [
    "slack_url = c.get('Slack', 'webhook')\n",
    "username = 'PercentileBot'\n",
    "channel = \"junk\" # we don't want to clutter up everything\n",
    "emoji = ':warning:'\n",
    "slack = Slack(url=slack_url, username=username, channel=channel, emoji=emoji)"
   ]
  },
  {
   "cell_type": "markdown",
   "metadata": {},
   "source": [
    "# Setup absolute slack bot"
   ]
  },
  {
   "cell_type": "code",
   "execution_count": 41,
   "metadata": {
    "collapsed": true
   },
   "outputs": [],
   "source": [
    "slack_url = c.get('Slack', 'webhook')\n",
    "username = 'AbsoluteBot'\n",
    "channel = \"junk\" # we don't want to clutter up everything\n",
    "emoji = ':warning:'\n",
    "slack = Slack(url=slack_url, username=username, channel=channel, emoji=emoji)"
   ]
  },
  {
   "cell_type": "markdown",
   "metadata": {},
   "source": [
    "# Create the alerts and send"
   ]
  },
  {
   "cell_type": "code",
   "execution_count": 44,
   "metadata": {
    "collapsed": false
   },
   "outputs": [
    {
     "name": "stderr",
     "output_type": "stream",
     "text": [
      "/usr/local/lib/python2.7/dist-packages/requests/packages/urllib3/util/ssl_.py:122: InsecurePlatformWarning: A true SSLContext object is not available. This prevents urllib3 from configuring SSL appropriately and may cause certain SSL connections to fail. You can upgrade to a newer version of Python to solve this. For more information, see https://urllib3.readthedocs.io/en/latest/security.html#insecureplatformwarning.\n",
      "  InsecurePlatformWarning\n",
      "/usr/local/lib/python2.7/dist-packages/requests/packages/urllib3/util/ssl_.py:122: InsecurePlatformWarning: A true SSLContext object is not available. This prevents urllib3 from configuring SSL appropriately and may cause certain SSL connections to fail. You can upgrade to a newer version of Python to solve this. For more information, see https://urllib3.readthedocs.io/en/latest/security.html#insecureplatformwarning.\n",
      "  InsecurePlatformWarning\n",
      "/usr/local/lib/python2.7/dist-packages/requests/packages/urllib3/util/ssl_.py:122: InsecurePlatformWarning: A true SSLContext object is not available. This prevents urllib3 from configuring SSL appropriately and may cause certain SSL connections to fail. You can upgrade to a newer version of Python to solve this. For more information, see https://urllib3.readthedocs.io/en/latest/security.html#insecureplatformwarning.\n",
      "  InsecurePlatformWarning\n",
      "/usr/local/lib/python2.7/dist-packages/requests/packages/urllib3/util/ssl_.py:122: InsecurePlatformWarning: A true SSLContext object is not available. This prevents urllib3 from configuring SSL appropriately and may cause certain SSL connections to fail. You can upgrade to a newer version of Python to solve this. For more information, see https://urllib3.readthedocs.io/en/latest/security.html#insecureplatformwarning.\n",
      "  InsecurePlatformWarning\n",
      "/usr/local/lib/python2.7/dist-packages/requests/packages/urllib3/util/ssl_.py:122: InsecurePlatformWarning: A true SSLContext object is not available. This prevents urllib3 from configuring SSL appropriately and may cause certain SSL connections to fail. You can upgrade to a newer version of Python to solve this. For more information, see https://urllib3.readthedocs.io/en/latest/security.html#insecureplatformwarning.\n",
      "  InsecurePlatformWarning\n",
      "/usr/local/lib/python2.7/dist-packages/requests/packages/urllib3/util/ssl_.py:122: InsecurePlatformWarning: A true SSLContext object is not available. This prevents urllib3 from configuring SSL appropriately and may cause certain SSL connections to fail. You can upgrade to a newer version of Python to solve this. For more information, see https://urllib3.readthedocs.io/en/latest/security.html#insecureplatformwarning.\n",
      "  InsecurePlatformWarning\n",
      "/usr/local/lib/python2.7/dist-packages/requests/packages/urllib3/util/ssl_.py:122: InsecurePlatformWarning: A true SSLContext object is not available. This prevents urllib3 from configuring SSL appropriately and may cause certain SSL connections to fail. You can upgrade to a newer version of Python to solve this. For more information, see https://urllib3.readthedocs.io/en/latest/security.html#insecureplatformwarning.\n",
      "  InsecurePlatformWarning\n"
     ]
    }
   ],
   "source": [
    "alerts.create_alerts(df_total, hp, 'percentile_analysis', slack, column='percentile')\n",
    "alerts.create_alerts(df_total, hp, 'absolute_analysis', slack, column='sum')"
   ]
  },
  {
   "cell_type": "markdown",
   "metadata": {},
   "source": [
    "# Attention, run this only once, to create a default alerts.cfg"
   ]
  },
  {
   "cell_type": "code",
   "execution_count": 34,
   "metadata": {
    "collapsed": false
   },
   "outputs": [],
   "source": [
    "threshhold = {\n",
    "    \"percentile_analysis\":\n",
    "         {\"default\":0.8,\n",
    "          \"3aa40023a1683bfec0f01cce8d45fc70\":0.5\n",
    "         },\n",
    " \"absolute_analysis\":\n",
    "     {\"default\":25,\n",
    "      \"3aa40023a1683bfec0f01cce8d45fc70\":10.5\n",
    "     }\n",
    "}"
   ]
  },
  {
   "cell_type": "code",
   "execution_count": 35,
   "metadata": {
    "collapsed": false
   },
   "outputs": [],
   "source": [
    "\n",
    "json.dump(threshhold, open(\"alerts.cfg\", 'w'))"
   ]
  },
  {
   "cell_type": "code",
   "execution_count": 33,
   "metadata": {
    "collapsed": false
   },
   "outputs": [
    {
     "data": {
      "text/html": [
       "<div>\n",
       "<table border=\"1\" class=\"dataframe\">\n",
       "  <thead>\n",
       "    <tr style=\"text-align: right;\">\n",
       "      <th></th>\n",
       "      <th>sum</th>\n",
       "      <th>percentile</th>\n",
       "      <th>flm</th>\n",
       "    </tr>\n",
       "  </thead>\n",
       "  <tbody>\n",
       "    <tr>\n",
       "      <th>214ef2d3533899dbf633caeb32e80483</th>\n",
       "      <td>0.970000</td>\n",
       "      <td>0.000000</td>\n",
       "      <td>FL03001251</td>\n",
       "    </tr>\n",
       "    <tr>\n",
       "      <th>156e0abc64b00c5e98dbd3c17883b5f6</th>\n",
       "      <td>1.285891</td>\n",
       "      <td>0.041667</td>\n",
       "      <td>FL03001441</td>\n",
       "    </tr>\n",
       "    <tr>\n",
       "      <th>2dd0f6942224767b18a411415f67b423</th>\n",
       "      <td>2.242987</td>\n",
       "      <td>0.083333</td>\n",
       "      <td>FL03001566</td>\n",
       "    </tr>\n",
       "    <tr>\n",
       "      <th>dfb719cc8240de810862228a7d1f37f3</th>\n",
       "      <td>2.868150</td>\n",
       "      <td>0.125000</td>\n",
       "      <td>FL03001566</td>\n",
       "    </tr>\n",
       "    <tr>\n",
       "      <th>e1dec16012edc11de998aeaa317274d7</th>\n",
       "      <td>2.973019</td>\n",
       "      <td>0.166667</td>\n",
       "      <td>FL03001561</td>\n",
       "    </tr>\n",
       "    <tr>\n",
       "      <th>cdd4808a8d0a228ba16fba7c66dda81a</th>\n",
       "      <td>2.975664</td>\n",
       "      <td>0.208333</td>\n",
       "      <td>FL03001556</td>\n",
       "    </tr>\n",
       "    <tr>\n",
       "      <th>77aaf550776560cd11eb68499b500075</th>\n",
       "      <td>5.209863</td>\n",
       "      <td>0.250000</td>\n",
       "      <td>FL03001266</td>\n",
       "    </tr>\n",
       "    <tr>\n",
       "      <th>81fb589c911e808daa96a2064bebed41</th>\n",
       "      <td>5.532440</td>\n",
       "      <td>0.291667</td>\n",
       "      <td>FL03001441</td>\n",
       "    </tr>\n",
       "    <tr>\n",
       "      <th>dd169cdc4479f7206007b536659e987e</th>\n",
       "      <td>6.316977</td>\n",
       "      <td>0.333333</td>\n",
       "      <td>FL03001553</td>\n",
       "    </tr>\n",
       "    <tr>\n",
       "      <th>d209e2bbb35b82b83cc0de5e8b84a4ff</th>\n",
       "      <td>6.933583</td>\n",
       "      <td>0.375000</td>\n",
       "      <td>FL03001572</td>\n",
       "    </tr>\n",
       "    <tr>\n",
       "      <th>ad322ec64956ed232cb94a72517004ab</th>\n",
       "      <td>6.979750</td>\n",
       "      <td>0.416667</td>\n",
       "      <td>FL03001553</td>\n",
       "    </tr>\n",
       "    <tr>\n",
       "      <th>9afa3357cee100c6a8a5059c63e29295</th>\n",
       "      <td>7.230967</td>\n",
       "      <td>0.458333</td>\n",
       "      <td>FL03001560</td>\n",
       "    </tr>\n",
       "    <tr>\n",
       "      <th>c1a78eacaa6a82d3257a278d3e99088a</th>\n",
       "      <td>8.236747</td>\n",
       "      <td>0.500000</td>\n",
       "      <td>FL02000678</td>\n",
       "    </tr>\n",
       "    <tr>\n",
       "      <th>1a1dac9c2ac155f95c58bf1d4f4b7d01</th>\n",
       "      <td>8.858532</td>\n",
       "      <td>0.541667</td>\n",
       "      <td>FL03001556</td>\n",
       "    </tr>\n",
       "    <tr>\n",
       "      <th>99d7f090c9b191e31067a5fa922da025</th>\n",
       "      <td>8.974747</td>\n",
       "      <td>0.583333</td>\n",
       "      <td>FL03001566</td>\n",
       "    </tr>\n",
       "    <tr>\n",
       "      <th>56f28789f52236df4647d06111ff515a</th>\n",
       "      <td>11.301291</td>\n",
       "      <td>0.625000</td>\n",
       "      <td>FL03001570</td>\n",
       "    </tr>\n",
       "    <tr>\n",
       "      <th>3aa40023a1683bfec0f01cce8d45fc70</th>\n",
       "      <td>12.120833</td>\n",
       "      <td>0.666667</td>\n",
       "      <td>FL03001561</td>\n",
       "    </tr>\n",
       "    <tr>\n",
       "      <th>53b1eb0479c83dee927fff10b0cb0fe6</th>\n",
       "      <td>12.808989</td>\n",
       "      <td>0.708333</td>\n",
       "      <td>FL03001552</td>\n",
       "    </tr>\n",
       "    <tr>\n",
       "      <th>b841eb895810525017ddc5d932d37eb7</th>\n",
       "      <td>13.383500</td>\n",
       "      <td>0.750000</td>\n",
       "      <td>FL03001573</td>\n",
       "    </tr>\n",
       "    <tr>\n",
       "      <th>a7d523e79909ad098bccc337c5da84a0</th>\n",
       "      <td>16.328782</td>\n",
       "      <td>0.791667</td>\n",
       "      <td>FL03001557</td>\n",
       "    </tr>\n",
       "    <tr>\n",
       "      <th>18345d8b39d2b98cde9f652b533f4280</th>\n",
       "      <td>20.404708</td>\n",
       "      <td>0.833333</td>\n",
       "      <td>FL03001553</td>\n",
       "    </tr>\n",
       "    <tr>\n",
       "      <th>4d23c511766514749bc84e29af6f444e</th>\n",
       "      <td>23.201389</td>\n",
       "      <td>0.875000</td>\n",
       "      <td>FL03001525</td>\n",
       "    </tr>\n",
       "    <tr>\n",
       "      <th>ce8ab098fc7479dcb3699f307c8e88a7</th>\n",
       "      <td>24.732750</td>\n",
       "      <td>0.916667</td>\n",
       "      <td>FL03001570</td>\n",
       "    </tr>\n",
       "    <tr>\n",
       "      <th>b325dbc1a0d62c99a50609e919b9ea06</th>\n",
       "      <td>52.970000</td>\n",
       "      <td>0.958333</td>\n",
       "      <td>FL03001553</td>\n",
       "    </tr>\n",
       "  </tbody>\n",
       "</table>\n",
       "</div>"
      ],
      "text/plain": [
       "                                        sum  percentile         flm\n",
       "214ef2d3533899dbf633caeb32e80483   0.970000    0.000000  FL03001251\n",
       "156e0abc64b00c5e98dbd3c17883b5f6   1.285891    0.041667  FL03001441\n",
       "2dd0f6942224767b18a411415f67b423   2.242987    0.083333  FL03001566\n",
       "dfb719cc8240de810862228a7d1f37f3   2.868150    0.125000  FL03001566\n",
       "e1dec16012edc11de998aeaa317274d7   2.973019    0.166667  FL03001561\n",
       "cdd4808a8d0a228ba16fba7c66dda81a   2.975664    0.208333  FL03001556\n",
       "77aaf550776560cd11eb68499b500075   5.209863    0.250000  FL03001266\n",
       "81fb589c911e808daa96a2064bebed41   5.532440    0.291667  FL03001441\n",
       "dd169cdc4479f7206007b536659e987e   6.316977    0.333333  FL03001553\n",
       "d209e2bbb35b82b83cc0de5e8b84a4ff   6.933583    0.375000  FL03001572\n",
       "ad322ec64956ed232cb94a72517004ab   6.979750    0.416667  FL03001553\n",
       "9afa3357cee100c6a8a5059c63e29295   7.230967    0.458333  FL03001560\n",
       "c1a78eacaa6a82d3257a278d3e99088a   8.236747    0.500000  FL02000678\n",
       "1a1dac9c2ac155f95c58bf1d4f4b7d01   8.858532    0.541667  FL03001556\n",
       "99d7f090c9b191e31067a5fa922da025   8.974747    0.583333  FL03001566\n",
       "56f28789f52236df4647d06111ff515a  11.301291    0.625000  FL03001570\n",
       "3aa40023a1683bfec0f01cce8d45fc70  12.120833    0.666667  FL03001561\n",
       "53b1eb0479c83dee927fff10b0cb0fe6  12.808989    0.708333  FL03001552\n",
       "b841eb895810525017ddc5d932d37eb7  13.383500    0.750000  FL03001573\n",
       "a7d523e79909ad098bccc337c5da84a0  16.328782    0.791667  FL03001557\n",
       "18345d8b39d2b98cde9f652b533f4280  20.404708    0.833333  FL03001553\n",
       "4d23c511766514749bc84e29af6f444e  23.201389    0.875000  FL03001525\n",
       "ce8ab098fc7479dcb3699f307c8e88a7  24.732750    0.916667  FL03001570\n",
       "b325dbc1a0d62c99a50609e919b9ea06  52.970000    0.958333  FL03001553"
      ]
     },
     "execution_count": 33,
     "metadata": {},
     "output_type": "execute_result"
    }
   ],
   "source": [
    "df_total"
   ]
  },
  {
   "cell_type": "code",
   "execution_count": 45,
   "metadata": {
    "collapsed": false
   },
   "outputs": [
    {
     "data": {
      "text/plain": [
       "<matplotlib.axes.AxesSubplot at 0x7fbfb00c3850>"
      ]
     },
     "execution_count": 45,
     "metadata": {},
     "output_type": "execute_result"
    },
    {
     "data": {
      "image/png": "[encoded data removed]",
      "text/plain": [
       "<matplotlib.figure.Figure at 0x7fbfb0076a90>"
      ]
     },
     "metadata": {},
     "output_type": "display_data"
    }
   ],
   "source": [
    "df['ad322ec64956ed232cb94a72517004ab'].plot()"
   ]
  },
  {
   "cell_type": "code",
   "execution_count": 46,
   "metadata": {
    "collapsed": false
   },
   "outputs": [
    {
     "data": {
      "text/plain": [
       "<matplotlib.figure.Figure at 0x7fbfb009b250>"
      ]
     },
     "metadata": {},
     "output_type": "display_data"
    }
   ],
   "source": [
    "fig = plt.gcf()"
   ]
  },
  {
   "cell_type": "code",
   "execution_count": null,
   "metadata": {
    "collapsed": true
   },
   "outputs": [],
   "source": [
    "fig.savefig()"
   ]
  }
 ],
 "metadata": {
  "kernelspec": {
   "display_name": "Python 2",
   "language": "python",
   "name": "python2"
  },
  "language_info": {
   "codemirror_mode": {
    "name": "ipython",
    "version": 2
   },
   "file_extension": ".py",
   "mimetype": "text/x-python",
   "name": "python",
   "nbconvert_exporter": "python",
   "pygments_lexer": "ipython2",
   "version": "2.7.6"
  }
 },
 "nbformat": 4,
 "nbformat_minor": 0
}
