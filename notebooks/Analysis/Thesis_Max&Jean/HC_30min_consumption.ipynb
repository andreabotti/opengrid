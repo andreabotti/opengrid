{
 "cells": [
  {
   "cell_type": "markdown",
   "metadata": {},
   "source": [
    "<h1>Hierarchical Clusternig of 30 min data blocks</h1>\n",
    "<p>In order to attempt to make better clusters we combined 30 minutes worth of data. For example a dishwasher wil use both water and electricity but not necessarily at exactly the same moment.</p>"
   ]
  },
  {
   "cell_type": "code",
   "execution_count": 1,
   "metadata": {
    "collapsed": false
   },
   "outputs": [
    {
     "name": "stdout",
     "output_type": "stream",
     "text": [
      "Collecting scikit-learn\n",
      "  Downloading scikit_learn-0.18.1-cp27-cp27mu-manylinux1_x86_64.whl (11.6MB)\n",
      "Installing collected packages: scikit-learn\n",
      "Successfully installed scikit-learn-0.18.1\n"
     ]
    },
    {
     "name": "stderr",
     "output_type": "stream",
     "text": [
      "/usr/local/lib/python2.7/dist-packages/pip/_vendor/requests/packages/urllib3/util/ssl_.py:318: SNIMissingWarning: An HTTPS request has been made, but the SNI (Subject Name Indication) extension to TLS is not available on this platform. This may cause the server to present an incorrect TLS certificate, which can cause validation failures. You can upgrade to a newer version of Python to solve this. For more information, see https://urllib3.readthedocs.org/en/latest/security.html#snimissingwarning.\n",
      "  SNIMissingWarning\n",
      "/usr/local/lib/python2.7/dist-packages/pip/_vendor/requests/packages/urllib3/util/ssl_.py:122: InsecurePlatformWarning: A true SSLContext object is not available. This prevents urllib3 from configuring SSL appropriately and may cause certain SSL connections to fail. You can upgrade to a newer version of Python to solve this. For more information, see https://urllib3.readthedocs.org/en/latest/security.html#insecureplatformwarning.\n",
      "  InsecurePlatformWarning\n",
      "/usr/local/lib/python2.7/dist-packages/pip/_vendor/requests/packages/urllib3/util/ssl_.py:122: InsecurePlatformWarning: A true SSLContext object is not available. This prevents urllib3 from configuring SSL appropriately and may cause certain SSL connections to fail. You can upgrade to a newer version of Python to solve this. For more information, see https://urllib3.readthedocs.org/en/latest/security.html#insecureplatformwarning.\n",
      "  InsecurePlatformWarning\n",
      "You are using pip version 8.1.2, however version 9.0.1 is available.\n",
      "You should consider upgrading via the 'pip install --upgrade pip' command.\n"
     ]
    }
   ],
   "source": [
    "%%bash\n",
    "pip install -U scikit-learn"
   ]
  },
  {
   "cell_type": "code",
   "execution_count": 2,
   "metadata": {
    "collapsed": false
   },
   "outputs": [
    {
     "name": "stdout",
     "output_type": "stream",
     "text": [
      "Server running in the folder /usr/local/opengrid/notebooks/Analysis/Thesis_Max&Jean at 127.0.0.1:44166\n"
     ]
    }
   ],
   "source": [
    "import numpy as np\n",
    "\n",
    "import os\n",
    "import inspect\n",
    "import sys\n",
    "import pandas as pd\n",
    "import charts\n",
    "import time\n",
    "\n",
    "from opengrid.library import houseprint\n",
    "\n",
    "from sklearn.cluster import MeanShift\n",
    "\n",
    "import matplotlib.pyplot as plt\n",
    "%matplotlib inline\n",
    "plt.rcParams['figure.figsize'] = 16,8"
   ]
  },
  {
   "cell_type": "code",
   "execution_count": 3,
   "metadata": {
    "collapsed": false
   },
   "outputs": [
    {
     "name": "stdout",
     "output_type": "stream",
     "text": [
      "Opening connection to Houseprint sheet\n",
      "Opening spreadsheets\n",
      "Parsing spreadsheets\n",
      "30 Sites created\n",
      "30 Devices created\n",
      "87 sensors created\n",
      "Houseprint parsing complete\n"
     ]
    }
   ],
   "source": [
    "hp = houseprint.Houseprint()"
   ]
  },
  {
   "cell_type": "code",
   "execution_count": 4,
   "metadata": {
    "collapsed": true
   },
   "outputs": [],
   "source": [
    "hp??"
   ]
  },
  {
   "cell_type": "code",
   "execution_count": 4,
   "metadata": {
    "collapsed": false
   },
   "outputs": [
    {
     "data": {
      "text/plain": [
       "[\n",
       "     Fluksosensor\n",
       "     Key: 81fb589c911e808daa96a2064bebed41\n",
       "     Type: electricity\n",
       "     , \n",
       "     Fluksosensor\n",
       "     Key: 212ce724e124fbde0fb649396375d099\n",
       "     Type: gas\n",
       "     , \n",
       "     Fluksosensor\n",
       "     Key: c57f45b21e2ec21ab427f172478e1ca4\n",
       "     Type: water\n",
       "     , \n",
       "     Fluksosensor\n",
       "     Key: 156e0abc64b00c5e98dbd3c17883b5f6\n",
       "     Type: electricity\n",
       "     , \n",
       "     Fluksosensor\n",
       "     Key: e5306ee3a4235498592fc89ee0ede353\n",
       "     Type: electricity\n",
       "     ]"
      ]
     },
     "execution_count": 4,
     "metadata": {},
     "output_type": "execute_result"
    }
   ],
   "source": [
    "device = hp.find_device('FL03001441')\n",
    "device.get_sensors()"
   ]
  },
  {
   "cell_type": "code",
   "execution_count": 5,
   "metadata": {
    "collapsed": false
   },
   "outputs": [
    {
     "name": "stdout",
     "output_type": "stream",
     "text": [
      "Using tmpo database from /data/.tmpo/tmpo.sqlite3\n"
     ]
    }
   ],
   "source": [
    "#Get Electricity data\n",
    "head = pd.Timestamp('20151114')\n",
    "tail = pd.Timestamp('20151118')\n",
    "electr = hp.find_sensor('81fb589c911e808daa96a2064bebed41')\n",
    "df_el = electr.get_data(head,tail,diff=True, unit='W')\n",
    "df_el = df_el.dropna()"
   ]
  },
  {
   "cell_type": "code",
   "execution_count": 6,
   "metadata": {
    "collapsed": false
   },
   "outputs": [],
   "source": [
    "#Get Gas data\n",
    "gas = hp.find_sensor('212ce724e124fbde0fb649396375d099')\n",
    "df_ga = gas.get_data(head,tail,diff=True)\n",
    "df_ga = df_ga.dropna()"
   ]
  },
  {
   "cell_type": "code",
   "execution_count": 7,
   "metadata": {
    "collapsed": false
   },
   "outputs": [],
   "source": [
    "#Get Water data\n",
    "water = hp.find_sensor('c57f45b21e2ec21ab427f172478e1ca4')\n",
    "df_wa = water.get_data(head,tail,diff=True)\n",
    "df_wa = df_wa.dropna()"
   ]
  },
  {
   "cell_type": "markdown",
   "metadata": {},
   "source": [
    "<h3>Gas vs Water</h3>"
   ]
  },
  {
   "cell_type": "code",
   "execution_count": 8,
   "metadata": {
    "collapsed": false
   },
   "outputs": [],
   "source": [
    "#Concatinate the two datasets and drop lines with zero values\n",
    "result = pd.concat([df_wa, df_ga], axis=1).dropna()\n",
    "result.columns = ['water', 'gas']"
   ]
  },
  {
   "cell_type": "markdown",
   "metadata": {},
   "source": [
    "<p>The duration of a block and the overlap of two blocks can be altered to have better results</p>"
   ]
  },
  {
   "cell_type": "code",
   "execution_count": 9,
   "metadata": {
    "collapsed": false
   },
   "outputs": [],
   "source": [
    "#Create new dataframe for cumulative consumption\n",
    "df_gawa = pd.DataFrame({'gas' : [], 'water':[]})\n",
    "\n",
    "df_loop = result\n",
    "while (df_loop.size > 0):\n",
    "    #Get timestamp of first row and take all rows between this time and 30 minutes later\n",
    "    ts_start = df_loop.index[0]\n",
    "    ts_end = (ts_start + 29)\n",
    "    df_temporary = df_loop.ix[ts_start:ts_end]\n",
    "    \n",
    "    #Remove these first 30 minutes from the list\n",
    "    df_loop = df_loop.ix[30:]\n",
    "    \n",
    "    #Sum these values and store them in the newely created dataframe\n",
    "    df_gawa = df_gawa.append(pd.DataFrame([[df_temporary.sum()['gas'], df_temporary.sum()['water']]],index = [ts_start] , columns=df_gawa.columns))\n",
    "\n",
    "    "
   ]
  },
  {
   "cell_type": "code",
   "execution_count": 10,
   "metadata": {
    "collapsed": false
   },
   "outputs": [],
   "source": [
    "df_gawa = df_gawa[~((df_gawa-df_gawa.mean()).abs()>3*df_gawa.std())]\n",
    "df_gawa = df_gawa.dropna()\n",
    "\n",
    "df_gawa['gas'] = df_gawa['gas']/df_gawa['gas'].max()\n",
    "df_gawa['water'] = df_gawa['water']/df_gawa['water'].max()"
   ]
  },
  {
   "cell_type": "code",
   "execution_count": 11,
   "metadata": {
    "collapsed": false
   },
   "outputs": [],
   "source": [
    "#convert pandas to np array\n",
    "resultArray = df_gawa.as_matrix()"
   ]
  },
  {
   "cell_type": "code",
   "execution_count": 12,
   "metadata": {
    "collapsed": false
   },
   "outputs": [],
   "source": [
    "#Run clustering Algorithm\n",
    "ms = MeanShift()\n",
    "ms.fit(resultArray)\n",
    "labels = ms.labels_\n",
    "cluster_centers = ms.cluster_centers_\n",
    "n_cluster = len(np.unique(labels))\n",
    "colors = 10*['g.', 'r.', 'c.', 'b.', 'k.', 'y.', 'm.']"
   ]
  },
  {
   "cell_type": "code",
   "execution_count": 13,
   "metadata": {
    "collapsed": false
   },
   "outputs": [
    {
     "data": {
      "image/png": "[encoded data removed]",
      "text/plain": [
       "<matplotlib.figure.Figure at 0x7f0e20234e50>"
      ]
     },
     "metadata": {},
     "output_type": "display_data"
    }
   ],
   "source": [
    "#Plot clusters\n",
    "for i in range(len(resultArray)):\n",
    "    plt.plot(resultArray[i][0], resultArray[i][1], colors[labels[i]], markersize = 10)\n",
    "\n",
    "plt.scatter(cluster_centers[:,0],cluster_centers[:,1], marker = \"x\", s = 150, linewidths = 5, zorder = 10)\n",
    "plt.xlabel('Gas')\n",
    "plt.ylabel('Water')\n",
    "plt.show()"
   ]
  },
  {
   "cell_type": "markdown",
   "metadata": {},
   "source": [
    "<h3>Electricity vs Water</h3>"
   ]
  },
  {
   "cell_type": "code",
   "execution_count": 282,
   "metadata": {
    "collapsed": false
   },
   "outputs": [],
   "source": [
    "#Concatinate the two datasets and drop lines with zero values\n",
    "result = pd.concat([df_wa, df_el], axis=1).dropna()\n",
    "result.columns = ['water', 'electricity']"
   ]
  },
  {
   "cell_type": "markdown",
   "metadata": {},
   "source": [
    "<p>The duration of a block and the overlap of two blocks can be altered to have better results</p>"
   ]
  },
  {
   "cell_type": "code",
   "execution_count": 283,
   "metadata": {
    "collapsed": false
   },
   "outputs": [],
   "source": [
    "#Create new dataframe for cumulative consumption\n",
    "df_elwa = pd.DataFrame({'electricity' : [], 'water':[]})\n",
    "\n",
    "df_loop = result\n",
    "while (df_loop.size > 0):\n",
    "    #Get timestamp of first row and take all rows between this time and 30 minutes later\n",
    "    ts_start = df_loop.index[0]\n",
    "    ts_end = (ts_start + 29)\n",
    "    df_temporary = df_loop.ix[ts_start:ts_end]\n",
    "    \n",
    "    #Remove these first 30 minutes from the list\n",
    "    df_loop = df_loop.ix[30:]\n",
    "    \n",
    "    #Sum these values and store them in the newely created dataframe\n",
    "    df_elwa = df_elwa.append(pd.DataFrame([[df_temporary.sum()['electricity'], df_temporary.sum()['water']]],index = [ts_start] , columns=df_elwa.columns))\n",
    "\n",
    "    "
   ]
  },
  {
   "cell_type": "code",
   "execution_count": 284,
   "metadata": {
    "collapsed": false
   },
   "outputs": [],
   "source": [
    "#df_elwa = df_elwa[~((df_elwa-df_elwa.mean()).abs()>3*df_elwa.std())]\n",
    "#df_elwa = df_elwa.dropna()\n",
    "\n",
    "df_elwa['electricity'] = df_elwa['electricity']/df_elwa['electricity'].max()\n",
    "df_elwa['water'] = df_elwa['water']/df_elwa['water'].max()"
   ]
  },
  {
   "cell_type": "code",
   "execution_count": 285,
   "metadata": {
    "collapsed": false
   },
   "outputs": [],
   "source": [
    "#convert pandas to np array\n",
    "resultArray = df_elwa.as_matrix()"
   ]
  },
  {
   "cell_type": "code",
   "execution_count": 286,
   "metadata": {
    "collapsed": false
   },
   "outputs": [],
   "source": [
    "#Run clustering Algorithm\n",
    "ms = MeanShift()\n",
    "ms.fit(resultArray)\n",
    "labels = ms.labels_\n",
    "cluster_centers = ms.cluster_centers_\n",
    "n_cluster = len(np.unique(labels))\n",
    "colors = 10*['g.', 'r.', 'c.', 'b.', 'k.', 'y.', 'm.']"
   ]
  },
  {
   "cell_type": "code",
   "execution_count": 287,
   "metadata": {
    "collapsed": false
   },
   "outputs": [
    {
     "data": {
      "image/png": "[encoded data removed]",
      "text/plain": [
       "<matplotlib.figure.Figure at 0x7f4c914cc510>"
      ]
     },
     "metadata": {},
     "output_type": "display_data"
    }
   ],
   "source": [
    "#Plot clusters\n",
    "for i in range(len(resultArray)):\n",
    "    plt.plot(resultArray[i][0], resultArray[i][1], colors[labels[i]], markersize = 10)\n",
    "\n",
    "plt.scatter(cluster_centers[:,0],cluster_centers[:,1], marker = \"x\", s = 150, linewidths = 5, zorder = 10)\n",
    "plt.xlabel('electricity')\n",
    "plt.ylabel('Water')\n",
    "plt.show()"
   ]
  },
  {
   "cell_type": "code",
   "execution_count": null,
   "metadata": {
    "collapsed": true
   },
   "outputs": [],
   "source": []
  },
  {
   "cell_type": "markdown",
   "metadata": {},
   "source": [
    "<h3>Electricity vs Gas</h3>"
   ]
  },
  {
   "cell_type": "code",
   "execution_count": 294,
   "metadata": {
    "collapsed": false
   },
   "outputs": [],
   "source": [
    "#Concatinate the two datasets and drop lines with zero values\n",
    "result = pd.concat([df_ga, df_el], axis=1).dropna()\n",
    "result.columns = ['gas', 'electricity']"
   ]
  },
  {
   "cell_type": "markdown",
   "metadata": {},
   "source": [
    "<p>The duration of a block and the overlap of two blocks can be altered to have better results</p>"
   ]
  },
  {
   "cell_type": "code",
   "execution_count": 295,
   "metadata": {
    "collapsed": false
   },
   "outputs": [],
   "source": [
    "#Create new dataframe for cumulative consumption\n",
    "df_elga = pd.DataFrame({'electricity' : [], 'gas':[]})\n",
    "\n",
    "df_loop = result\n",
    "while (df_loop.size > 0):\n",
    "    #Get timestamp of first row and take all rows between this time and 30 minutes later\n",
    "    ts_start = df_loop.index[0]\n",
    "    ts_end = (ts_start + 29)\n",
    "    df_temporary = df_loop.ix[ts_start:ts_end]\n",
    "    \n",
    "    #Remove these first 30 minutes from the list\n",
    "    df_loop = df_loop.ix[30:]\n",
    "    \n",
    "    #Sum these values and store them in the newely created dataframe\n",
    "    df_elga = df_elga.append(pd.DataFrame([[df_temporary.sum()['electricity'], df_temporary.sum()['gas']]],index = [ts_start] , columns=df_elga.columns))\n",
    "\n",
    "    "
   ]
  },
  {
   "cell_type": "code",
   "execution_count": 296,
   "metadata": {
    "collapsed": false
   },
   "outputs": [],
   "source": [
    "#df_elwa = df_elwa[~((df_elwa-df_elwa.mean()).abs()>3*df_elwa.std())]\n",
    "#df_elwa = df_elwa.dropna()\n",
    "\n",
    "df_elga['electricity'] = df_elga['electricity']/df_elga['electricity'].max()\n",
    "df_elga['gas'] = df_elga['gas']/df_elga['gas'].max()"
   ]
  },
  {
   "cell_type": "code",
   "execution_count": 297,
   "metadata": {
    "collapsed": false
   },
   "outputs": [],
   "source": [
    "#convert pandas to np array\n",
    "resultArray = df_elga.as_matrix()"
   ]
  },
  {
   "cell_type": "code",
   "execution_count": 298,
   "metadata": {
    "collapsed": false
   },
   "outputs": [],
   "source": [
    "#Run clustering Algorithm\n",
    "ms = MeanShift()\n",
    "ms.fit(resultArray)\n",
    "labels = ms.labels_\n",
    "cluster_centers = ms.cluster_centers_\n",
    "n_cluster = len(np.unique(labels))\n",
    "colors = 10*['g.', 'r.', 'c.', 'b.', 'k.', 'y.', 'm.']"
   ]
  },
  {
   "cell_type": "code",
   "execution_count": 299,
   "metadata": {
    "collapsed": false
   },
   "outputs": [
    {
     "data": {
      "image/png": "[encoded data removed]",
      "text/plain": [
       "<matplotlib.figure.Figure at 0x7f4c91605390>"
      ]
     },
     "metadata": {},
     "output_type": "display_data"
    }
   ],
   "source": [
    "#Plot clusters\n",
    "for i in range(len(resultArray)):\n",
    "    plt.plot(resultArray[i][0], resultArray[i][1], colors[labels[i]], markersize = 10)\n",
    "\n",
    "plt.scatter(cluster_centers[:,0],cluster_centers[:,1], marker = \"x\", s = 150, linewidths = 5, zorder = 10)\n",
    "plt.xlabel('electricity')\n",
    "plt.ylabel('gas')\n",
    "plt.show()"
   ]
  },
  {
   "cell_type": "code",
   "execution_count": null,
   "metadata": {
    "collapsed": true
   },
   "outputs": [],
   "source": []
  }
 ],
 "metadata": {
  "kernelspec": {
   "display_name": "Python 2",
   "language": "python",
   "name": "python2"
  },
  "language_info": {
   "codemirror_mode": {
    "name": "ipython",
    "version": 2
   },
   "file_extension": ".py",
   "mimetype": "text/x-python",
   "name": "python",
   "nbconvert_exporter": "python",
   "pygments_lexer": "ipython2",
   "version": "2.7.6"
  }
 },
 "nbformat": 4,
 "nbformat_minor": 0
}
